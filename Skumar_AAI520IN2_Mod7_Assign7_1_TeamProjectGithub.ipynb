{
  "nbformat": 4,
  "nbformat_minor": 0,
  "metadata": {
    "colab": {
      "provenance": []
    },
    "kernelspec": {
      "name": "python3",
      "display_name": "Python 3"
    },
    "language_info": {
      "name": "python"
    }
  },
  "cells": [
    {
      "cell_type": "markdown",
      "source": [
        "AAI 520 IN2 - LLM PROJECT\n",
        "\n",
        "Sanjay Kumar and team\n",
        "\n",
        "Sept 2025\n",
        "\n"
      ],
      "metadata": {
        "id": "7GJgDFgKBWYO"
      }
    },
    {
      "cell_type": "code",
      "source": [
        "#----------------python --------------------"
      ],
      "metadata": {
        "id": "a--VFXR1ariY"
      },
      "execution_count": null,
      "outputs": []
    },
    {
      "cell_type": "code",
      "source": [
        "!pip install rapidfuzz\n"
      ],
      "metadata": {
        "colab": {
          "base_uri": "https://localhost:8080/"
        },
        "collapsed": true,
        "id": "N4IJ0Ij2br5O",
        "outputId": "2ac6d6b7-6c9a-42bc-f37b-f7edb0045cc6"
      },
      "execution_count": 3,
      "outputs": [
        {
          "output_type": "stream",
          "name": "stdout",
          "text": [
            "Collecting rapidfuzz\n",
            "  Downloading rapidfuzz-3.14.1-cp312-cp312-manylinux_2_27_x86_64.manylinux_2_28_x86_64.whl.metadata (12 kB)\n",
            "Downloading rapidfuzz-3.14.1-cp312-cp312-manylinux_2_27_x86_64.manylinux_2_28_x86_64.whl (3.2 MB)\n",
            "\u001b[2K   \u001b[90m━━━━━━━━━━━━━━━━━━━━━━━━━━━━━━━━━━━━━━━━\u001b[0m \u001b[32m3.2/3.2 MB\u001b[0m \u001b[31m32.3 MB/s\u001b[0m eta \u001b[36m0:00:00\u001b[0m\n",
            "\u001b[?25hInstalling collected packages: rapidfuzz\n",
            "Successfully installed rapidfuzz-3.14.1\n"
          ]
        }
      ]
    },
    {
      "cell_type": "code",
      "source": [
        "pip install requests langchain-ollama\n"
      ],
      "metadata": {
        "colab": {
          "base_uri": "https://localhost:8080/"
        },
        "collapsed": true,
        "id": "-OVJcOCtbtQN",
        "outputId": "fd03f257-8f1b-474a-c66d-14b65c61d40a"
      },
      "execution_count": 4,
      "outputs": [
        {
          "output_type": "stream",
          "name": "stdout",
          "text": [
            "Requirement already satisfied: requests in /usr/local/lib/python3.12/dist-packages (2.32.4)\n",
            "Collecting langchain-ollama\n",
            "  Downloading langchain_ollama-0.3.10-py3-none-any.whl.metadata (2.1 kB)\n",
            "Requirement already satisfied: charset_normalizer<4,>=2 in /usr/local/lib/python3.12/dist-packages (from requests) (3.4.3)\n",
            "Requirement already satisfied: idna<4,>=2.5 in /usr/local/lib/python3.12/dist-packages (from requests) (3.10)\n",
            "Requirement already satisfied: urllib3<3,>=1.21.1 in /usr/local/lib/python3.12/dist-packages (from requests) (2.5.0)\n",
            "Requirement already satisfied: certifi>=2017.4.17 in /usr/local/lib/python3.12/dist-packages (from requests) (2025.10.5)\n",
            "Collecting ollama<1.0.0,>=0.5.3 (from langchain-ollama)\n",
            "  Downloading ollama-0.6.0-py3-none-any.whl.metadata (4.3 kB)\n",
            "Requirement already satisfied: langchain-core<2.0.0,>=0.3.76 in /usr/local/lib/python3.12/dist-packages (from langchain-ollama) (0.3.78)\n",
            "Requirement already satisfied: langsmith<1.0.0,>=0.3.45 in /usr/local/lib/python3.12/dist-packages (from langchain-core<2.0.0,>=0.3.76->langchain-ollama) (0.4.33)\n",
            "Requirement already satisfied: tenacity!=8.4.0,<10.0.0,>=8.1.0 in /usr/local/lib/python3.12/dist-packages (from langchain-core<2.0.0,>=0.3.76->langchain-ollama) (8.5.0)\n",
            "Requirement already satisfied: jsonpatch<2.0.0,>=1.33.0 in /usr/local/lib/python3.12/dist-packages (from langchain-core<2.0.0,>=0.3.76->langchain-ollama) (1.33)\n",
            "Requirement already satisfied: PyYAML<7.0.0,>=5.3.0 in /usr/local/lib/python3.12/dist-packages (from langchain-core<2.0.0,>=0.3.76->langchain-ollama) (6.0.3)\n",
            "Requirement already satisfied: typing-extensions<5.0.0,>=4.7.0 in /usr/local/lib/python3.12/dist-packages (from langchain-core<2.0.0,>=0.3.76->langchain-ollama) (4.15.0)\n",
            "Requirement already satisfied: packaging<26.0.0,>=23.2.0 in /usr/local/lib/python3.12/dist-packages (from langchain-core<2.0.0,>=0.3.76->langchain-ollama) (25.0)\n",
            "Requirement already satisfied: pydantic<3.0.0,>=2.7.4 in /usr/local/lib/python3.12/dist-packages (from langchain-core<2.0.0,>=0.3.76->langchain-ollama) (2.11.10)\n",
            "Requirement already satisfied: httpx>=0.27 in /usr/local/lib/python3.12/dist-packages (from ollama<1.0.0,>=0.5.3->langchain-ollama) (0.28.1)\n",
            "Requirement already satisfied: anyio in /usr/local/lib/python3.12/dist-packages (from httpx>=0.27->ollama<1.0.0,>=0.5.3->langchain-ollama) (4.11.0)\n",
            "Requirement already satisfied: httpcore==1.* in /usr/local/lib/python3.12/dist-packages (from httpx>=0.27->ollama<1.0.0,>=0.5.3->langchain-ollama) (1.0.9)\n",
            "Requirement already satisfied: h11>=0.16 in /usr/local/lib/python3.12/dist-packages (from httpcore==1.*->httpx>=0.27->ollama<1.0.0,>=0.5.3->langchain-ollama) (0.16.0)\n",
            "Requirement already satisfied: jsonpointer>=1.9 in /usr/local/lib/python3.12/dist-packages (from jsonpatch<2.0.0,>=1.33.0->langchain-core<2.0.0,>=0.3.76->langchain-ollama) (3.0.0)\n",
            "Requirement already satisfied: orjson>=3.9.14 in /usr/local/lib/python3.12/dist-packages (from langsmith<1.0.0,>=0.3.45->langchain-core<2.0.0,>=0.3.76->langchain-ollama) (3.11.3)\n",
            "Requirement already satisfied: requests-toolbelt>=1.0.0 in /usr/local/lib/python3.12/dist-packages (from langsmith<1.0.0,>=0.3.45->langchain-core<2.0.0,>=0.3.76->langchain-ollama) (1.0.0)\n",
            "Requirement already satisfied: zstandard>=0.23.0 in /usr/local/lib/python3.12/dist-packages (from langsmith<1.0.0,>=0.3.45->langchain-core<2.0.0,>=0.3.76->langchain-ollama) (0.25.0)\n",
            "Requirement already satisfied: annotated-types>=0.6.0 in /usr/local/lib/python3.12/dist-packages (from pydantic<3.0.0,>=2.7.4->langchain-core<2.0.0,>=0.3.76->langchain-ollama) (0.7.0)\n",
            "Requirement already satisfied: pydantic-core==2.33.2 in /usr/local/lib/python3.12/dist-packages (from pydantic<3.0.0,>=2.7.4->langchain-core<2.0.0,>=0.3.76->langchain-ollama) (2.33.2)\n",
            "Requirement already satisfied: typing-inspection>=0.4.0 in /usr/local/lib/python3.12/dist-packages (from pydantic<3.0.0,>=2.7.4->langchain-core<2.0.0,>=0.3.76->langchain-ollama) (0.4.2)\n",
            "Requirement already satisfied: sniffio>=1.1 in /usr/local/lib/python3.12/dist-packages (from anyio->httpx>=0.27->ollama<1.0.0,>=0.5.3->langchain-ollama) (1.3.1)\n",
            "Downloading langchain_ollama-0.3.10-py3-none-any.whl (27 kB)\n",
            "Downloading ollama-0.6.0-py3-none-any.whl (14 kB)\n",
            "Installing collected packages: ollama, langchain-ollama\n",
            "Successfully installed langchain-ollama-0.3.10 ollama-0.6.0\n"
          ]
        }
      ]
    },
    {
      "cell_type": "code",
      "source": [
        "# Accessing Hugging Face token from Colab secret\n",
        "import os\n",
        "from google.colab import userdata\n",
        "userdata.get('secretName')\n",
        "\n",
        "# Colab sets secrets as environment variables automatically\n",
        "HUGGINGFACEHUB_API_TOKEN = os.environ.get(\"ipowatch_project1\")\n",
        "FINNHUB_API_KEY = os.environ.get(\"FINNHUB_API_KEY\")\n",
        "\n",
        "print(\"HF Token:\", \"Found\" if HUGGINGFACEHUB_API_TOKEN else \"Not Found\")\n",
        "print(\"Finnhub Token:\", \"Found\" if FINNHUB_API_KEY else \"Not Found\")\n"
      ],
      "metadata": {
        "colab": {
          "base_uri": "https://localhost:8080/",
          "height": 332
        },
        "collapsed": true,
        "id": "SemVRGfS8KZ3",
        "outputId": "87441cfd-19c2-468b-a819-022a17a79e36"
      },
      "execution_count": 26,
      "outputs": [
        {
          "output_type": "error",
          "ename": "SecretNotFoundError",
          "evalue": "Secret secretName does not exist.",
          "traceback": [
            "\u001b[0;31m---------------------------------------------------------------------------\u001b[0m",
            "\u001b[0;31mSecretNotFoundError\u001b[0m                       Traceback (most recent call last)",
            "\u001b[0;32m/tmp/ipython-input-2825964580.py\u001b[0m in \u001b[0;36m<cell line: 0>\u001b[0;34m()\u001b[0m\n\u001b[1;32m      2\u001b[0m \u001b[0;32mimport\u001b[0m \u001b[0mos\u001b[0m\u001b[0;34m\u001b[0m\u001b[0;34m\u001b[0m\u001b[0m\n\u001b[1;32m      3\u001b[0m \u001b[0;32mfrom\u001b[0m \u001b[0mgoogle\u001b[0m\u001b[0;34m.\u001b[0m\u001b[0mcolab\u001b[0m \u001b[0;32mimport\u001b[0m \u001b[0muserdata\u001b[0m\u001b[0;34m\u001b[0m\u001b[0;34m\u001b[0m\u001b[0m\n\u001b[0;32m----> 4\u001b[0;31m \u001b[0muserdata\u001b[0m\u001b[0;34m.\u001b[0m\u001b[0mget\u001b[0m\u001b[0;34m(\u001b[0m\u001b[0;34m'secretName'\u001b[0m\u001b[0;34m)\u001b[0m\u001b[0;34m\u001b[0m\u001b[0;34m\u001b[0m\u001b[0m\n\u001b[0m\u001b[1;32m      5\u001b[0m \u001b[0;34m\u001b[0m\u001b[0m\n\u001b[1;32m      6\u001b[0m \u001b[0;31m# Colab sets secrets as environment variables automatically\u001b[0m\u001b[0;34m\u001b[0m\u001b[0;34m\u001b[0m\u001b[0m\n",
            "\u001b[0;32m/usr/local/lib/python3.12/dist-packages/google/colab/userdata.py\u001b[0m in \u001b[0;36mget\u001b[0;34m(key)\u001b[0m\n\u001b[1;32m     66\u001b[0m     \u001b[0;32mraise\u001b[0m \u001b[0mTimeoutException\u001b[0m\u001b[0;34m(\u001b[0m\u001b[0mkey\u001b[0m\u001b[0;34m)\u001b[0m\u001b[0;34m\u001b[0m\u001b[0;34m\u001b[0m\u001b[0m\n\u001b[1;32m     67\u001b[0m   \u001b[0;32mif\u001b[0m \u001b[0;32mnot\u001b[0m \u001b[0mresp\u001b[0m\u001b[0;34m.\u001b[0m\u001b[0mget\u001b[0m\u001b[0;34m(\u001b[0m\u001b[0;34m'exists'\u001b[0m\u001b[0;34m,\u001b[0m \u001b[0;32mFalse\u001b[0m\u001b[0;34m)\u001b[0m\u001b[0;34m:\u001b[0m\u001b[0;34m\u001b[0m\u001b[0;34m\u001b[0m\u001b[0m\n\u001b[0;32m---> 68\u001b[0;31m     \u001b[0;32mraise\u001b[0m \u001b[0mSecretNotFoundError\u001b[0m\u001b[0;34m(\u001b[0m\u001b[0mkey\u001b[0m\u001b[0;34m)\u001b[0m\u001b[0;34m\u001b[0m\u001b[0;34m\u001b[0m\u001b[0m\n\u001b[0m\u001b[1;32m     69\u001b[0m   \u001b[0;32mif\u001b[0m \u001b[0;32mnot\u001b[0m \u001b[0mresp\u001b[0m\u001b[0;34m.\u001b[0m\u001b[0mget\u001b[0m\u001b[0;34m(\u001b[0m\u001b[0;34m'access'\u001b[0m\u001b[0;34m,\u001b[0m \u001b[0;32mFalse\u001b[0m\u001b[0;34m)\u001b[0m\u001b[0;34m:\u001b[0m\u001b[0;34m\u001b[0m\u001b[0;34m\u001b[0m\u001b[0m\n\u001b[1;32m     70\u001b[0m     \u001b[0;32mraise\u001b[0m \u001b[0mNotebookAccessError\u001b[0m\u001b[0;34m(\u001b[0m\u001b[0mkey\u001b[0m\u001b[0;34m)\u001b[0m\u001b[0;34m\u001b[0m\u001b[0;34m\u001b[0m\u001b[0m\n",
            "\u001b[0;31mSecretNotFoundError\u001b[0m: Secret secretName does not exist."
          ]
        }
      ]
    },
    {
      "cell_type": "code",
      "source": [
        "from huggingface_hub import InferenceClient\n",
        "\n",
        "client = InferenceClient(api_key=HUGGINGFACEHUB_API_TOKEN)\n",
        "print(\"Hugging Face client initialized successfully!\")\n"
      ],
      "metadata": {
        "colab": {
          "base_uri": "https://localhost:8080/"
        },
        "id": "ijZQIE6s_BGN",
        "outputId": "656937f0-fd4b-49c9-8900-624037ffaaaf"
      },
      "execution_count": 27,
      "outputs": [
        {
          "output_type": "stream",
          "name": "stdout",
          "text": [
            "Hugging Face client initialized successfully!\n"
          ]
        }
      ]
    },
    {
      "cell_type": "code",
      "source": [
        "# Accessing Hugging Face token from Colab secret\n",
        "import os\n",
        "\n",
        "# Colab sets secrets as environment variables automatically\n",
        "HUGGINGFACEHUB_API_TOKEN = os.environ.get(\"ipowatch_project1\")\n",
        "FINNHUB_API_KEY = os.environ.get(\"FINNHUB_API_KEY\")\n",
        "\n",
        "print(\"HF Token:\", \"Found\" if HUGGINGFACEHUB_API_TOKEN else \"Not Found\")\n",
        "print(\"Finnhub Token:\", \"Found\" if FINNHUB_API_KEY else \"Not Found\")\n"
      ],
      "metadata": {
        "colab": {
          "base_uri": "https://localhost:8080/"
        },
        "id": "IlgraUA1_JXd",
        "outputId": "e1c43aca-2295-41f5-fc8e-718ec0b5a078"
      },
      "execution_count": 34,
      "outputs": [
        {
          "output_type": "stream",
          "name": "stdout",
          "text": [
            "HF Token: Not Found\n",
            "Finnhub Token: Not Found\n"
          ]
        }
      ]
    },
    {
      "cell_type": "code",
      "source": [
        "import os\n",
        "import datetime\n",
        "import json\n",
        "import requests\n",
        "from rapidfuzz import process, fuzz\n",
        "from huggingface_hub import InferenceClient\n",
        "\n",
        "# -------------------- Hugging Face LLM Setup --------------------\n",
        "HUGGINGFACEHUB_API_TOKEN = os.environ.get(\"ipowatch_project1\")\n",
        "if not HUGGINGFACEHUB_API_TOKEN:\n",
        "    raise ValueError(\"Hugging Face token not found. Set Colab secret 'ipowatch_project1'.\")\n",
        "\n",
        "client = InferenceClient(api_key=HUGGINGFACEHUB_API_TOKEN)\n",
        "MODEL_NAME = \"mistralai/Mistral-7B-Instruct-v0.2\"\n",
        "\n",
        "def query_llm(prompt):\n",
        "    response = client.text_generation(\n",
        "        prompt,\n",
        "        model=MODEL_NAME,\n",
        "        max_new_tokens=512,\n",
        "        temperature=0.3\n",
        "    )\n",
        "    return response[0][\"generated_text\"]\n",
        "\n",
        "# -------------------- Finnhub API Key from Colab Secret --------------------\n",
        "FINNHUB_API_KEY = os.environ.get(\"FINNHUB_API_KEY\")\n",
        "if not FINNHUB_API_KEY:\n",
        "    raise ValueError(\"Finnhub API key not found. Set Colab secret 'FINNHUB_API_KEY'.\")\n",
        "\n",
        "# -------------------- Constants --------------------\n",
        "DATABASE_PATH = \"database.json\"\n",
        "COMPANY_INFO_PATH = \"company_tickers.json\"\n",
        "\n",
        "# -------------------- Database Helpers --------------------\n",
        "def read_json(path):\n",
        "    try:\n",
        "        with open(path, \"r\") as f:\n",
        "            return json.load(f)\n",
        "    except FileNotFoundError:\n",
        "        return {}\n",
        "\n",
        "def write_json(path, data):\n",
        "    with open(path, \"w\") as f:\n",
        "        json.dump(data, f, indent=4)\n",
        "\n",
        "def write_company_name_to_database(company_name):\n",
        "    db = read_json(DATABASE_PATH)\n",
        "    db.setdefault(\"company_name\", []).append(company_name)\n",
        "    write_json(DATABASE_PATH, db)\n",
        "\n",
        "def write_available_dates_to_database(months, years):\n",
        "    db = read_json(DATABASE_PATH)\n",
        "    db[\"date_response\"] = {\"months\": months, \"years\": years}\n",
        "    write_json(DATABASE_PATH, db)\n",
        "\n",
        "# -------------------- Fuzzy Matching --------------------\n",
        "def best_match(company_name, key=\"title\", threshold=60):\n",
        "    data = read_json(COMPANY_INFO_PATH)\n",
        "    reference_list = [data[k] for k in data.keys()]\n",
        "    choices = [r[key].lower() for r in reference_list]\n",
        "    matches = process.extract(company_name, choices, scorer=fuzz.token_set_ratio,\n",
        "                              limit=3, score_cutoff=threshold)\n",
        "    results = []\n",
        "    for match, score, idx in matches:\n",
        "        results.append({\"match\": reference_list[idx][key], \"score\": score})\n",
        "    return results\n",
        "\n",
        "# -------------------- LLM Company Extraction --------------------\n",
        "def find_company_names(request):\n",
        "    prompt = f\"\"\"\n",
        "    Extract company names from this user request.\n",
        "    Only return a comma-separated list of company names.\n",
        "    If none, return 'NO COMPANY FOUND'.\n",
        "    Request: {request}\n",
        "    \"\"\"\n",
        "    response = query_llm(prompt)\n",
        "    print(f\"LLM Output: {response}\")\n",
        "\n",
        "    company_names = response.lower()\n",
        "    if \"no company found\" in company_names:\n",
        "        print(\"No company names found.\")\n",
        "        return []\n",
        "\n",
        "    names = [name.strip() for name in company_names.split(\",\") if name.strip()]\n",
        "    confirmed = []\n",
        "\n",
        "    for name in names:\n",
        "        result = best_match(name)\n",
        "        if not result:\n",
        "            print(f\"No valid match for '{name}'\")\n",
        "            continue\n",
        "\n",
        "        best = result[0]\n",
        "        print(f\"Match for '{name}': {best}\")\n",
        "        if best[\"score\"] > 90:\n",
        "            write_company_name_to_database(best[\"match\"])\n",
        "            confirmed.append(best[\"match\"])\n",
        "\n",
        "    return confirmed\n",
        "\n",
        "# -------------------- Date Extraction --------------------\n",
        "def find_month_year(answer):\n",
        "    months = ['january','february','march','april','may','june','july',\n",
        "              'august','september','october','november','december']\n",
        "    words = answer.replace('-', ' ').replace(',', ' ').split()\n",
        "    found_months, found_years = [], []\n",
        "\n",
        "    for w in words:\n",
        "        if w.lower() in months:\n",
        "            found_months.append(months.index(w.lower()) + 1)\n",
        "        elif w.isdigit() and 2000 <= int(w) <= datetime.date.today().year:\n",
        "            found_years.append(int(w))\n",
        "\n",
        "    write_available_dates_to_database(found_months, found_years)\n",
        "    return found_months, found_years\n",
        "\n",
        "def find_dates(request):\n",
        "    prompt = f\"\"\"\n",
        "    Identify month(s) and year(s) in this text (if any).\n",
        "    Return only month names and years. No explanation.\n",
        "    Text: {request}\n",
        "    \"\"\"\n",
        "    ans = query_llm(prompt)\n",
        "    print(f\"Date info found: {ans}\")\n",
        "    return find_month_year(ans)\n",
        "\n",
        "# -------------------- Finnhub API --------------------\n",
        "def get_company_news(symbol, from_date, to_date):\n",
        "    url = f\"https://finnhub.io/api/v1/company-news?symbol={symbol}&from={from_date}&to={to_date}&token={FINNHUB_API_KEY}\"\n",
        "    res = requests.get(url)\n",
        "    if res.status_code == 200:\n",
        "        data = res.json()\n",
        "        print(f\"\\n--- {symbol} News ---\")\n",
        "        for item in data[:5]:\n",
        "            print(f\"- {item['headline']}\")\n",
        "    else:\n",
        "        print(f\"Error fetching news for {symbol}: {res.text}\")\n",
        "\n",
        "def get_recent_ipos():\n",
        "    today = datetime.date.today()\n",
        "    from_date = (today - datetime.timedelta(days=90)).isoformat()\n",
        "    to_date = today.isoformat()\n",
        "\n",
        "    url = f\"https://finnhub.io/api/v1/calendar/ipo?from={from_date}&to={to_date}&token={FINNHUB_API_KEY}\"\n",
        "    res = requests.get(url)\n",
        "    if res.status_code == 200:\n",
        "        data = res.json().get(\"ipoCalendar\", [])\n",
        "        print(\"\\n--- Recent IPOs ---\")\n",
        "        for d in data[:5]:\n",
        "            print(f\"{d['name']} ({d['symbol']}) - {d['date']}\")\n",
        "    else:\n",
        "        print(f\"Error fetching IPO data: {res.text}\")\n",
        "\n",
        "# -------------------- Main Workflow --------------------\n",
        "def workflow():\n",
        "    request = input(\"Enter your query: \")\n",
        "\n",
        "    # Step 1: Find companies\n",
        "    companies = find_company_names(request)\n",
        "\n",
        "    # Step 2: Find dates\n",
        "    months, years = find_dates(request)\n",
        "\n",
        "    # Step 3: If company present → fetch company news\n",
        "    if companies:\n",
        "        to_date = datetime.date.today().isoformat()\n",
        "        from_date = (datetime.date.today() - datetime.timedelta(days=30)).isoformat()\n",
        "        for name in companies:\n",
        "            db = read_json(COMPANY_INFO_PATH)\n",
        "            for k, v in db.items():\n",
        "                if v[\"title\"].lower() == name.lower():\n",
        "                    get_company_news(v[\"ticker\"], from_date, to_date)\n",
        "    else:\n",
        "        # Step 4: No company → get recent IPOs\n",
        "        get_recent_ipos()\n",
        "\n",
        "if __name__ == \"__main__\":\n",
        "    workflow()\n"
      ],
      "metadata": {
        "colab": {
          "base_uri": "https://localhost:8080/",
          "height": 228
        },
        "id": "AZn4wLbu_41h",
        "outputId": "eaa1fea9-f226-4aed-f8c2-b57bea2c37c1"
      },
      "execution_count": 35,
      "outputs": [
        {
          "output_type": "error",
          "ename": "ValueError",
          "evalue": "Hugging Face token not found. Set Colab secret 'ipowatch_project1'.",
          "traceback": [
            "\u001b[0;31m---------------------------------------------------------------------------\u001b[0m",
            "\u001b[0;31mValueError\u001b[0m                                Traceback (most recent call last)",
            "\u001b[0;32m/tmp/ipython-input-2381973807.py\u001b[0m in \u001b[0;36m<cell line: 0>\u001b[0;34m()\u001b[0m\n\u001b[1;32m      9\u001b[0m \u001b[0mHUGGINGFACEHUB_API_TOKEN\u001b[0m \u001b[0;34m=\u001b[0m \u001b[0mos\u001b[0m\u001b[0;34m.\u001b[0m\u001b[0menviron\u001b[0m\u001b[0;34m.\u001b[0m\u001b[0mget\u001b[0m\u001b[0;34m(\u001b[0m\u001b[0;34m\"ipowatch_project1\"\u001b[0m\u001b[0;34m)\u001b[0m\u001b[0;34m\u001b[0m\u001b[0;34m\u001b[0m\u001b[0m\n\u001b[1;32m     10\u001b[0m \u001b[0;32mif\u001b[0m \u001b[0;32mnot\u001b[0m \u001b[0mHUGGINGFACEHUB_API_TOKEN\u001b[0m\u001b[0;34m:\u001b[0m\u001b[0;34m\u001b[0m\u001b[0;34m\u001b[0m\u001b[0m\n\u001b[0;32m---> 11\u001b[0;31m     \u001b[0;32mraise\u001b[0m \u001b[0mValueError\u001b[0m\u001b[0;34m(\u001b[0m\u001b[0;34m\"Hugging Face token not found. Set Colab secret 'ipowatch_project1'.\"\u001b[0m\u001b[0;34m)\u001b[0m\u001b[0;34m\u001b[0m\u001b[0;34m\u001b[0m\u001b[0m\n\u001b[0m\u001b[1;32m     12\u001b[0m \u001b[0;34m\u001b[0m\u001b[0m\n\u001b[1;32m     13\u001b[0m \u001b[0mclient\u001b[0m \u001b[0;34m=\u001b[0m \u001b[0mInferenceClient\u001b[0m\u001b[0;34m(\u001b[0m\u001b[0mapi_key\u001b[0m\u001b[0;34m=\u001b[0m\u001b[0mHUGGINGFACEHUB_API_TOKEN\u001b[0m\u001b[0;34m)\u001b[0m\u001b[0;34m\u001b[0m\u001b[0;34m\u001b[0m\u001b[0m\n",
            "\u001b[0;31mValueError\u001b[0m: Hugging Face token not found. Set Colab secret 'ipowatch_project1'."
          ]
        }
      ]
    },
    {
      "cell_type": "code",
      "source": [
        "#------------------------------- end of python--------------------------------------------"
      ],
      "metadata": {
        "id": "-lbUQ8N3EF3a"
      },
      "execution_count": null,
      "outputs": []
    }
  ]
}